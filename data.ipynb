{
 "cells": [
  {
   "cell_type": "code",
   "execution_count": 38,
   "metadata": {},
   "outputs": [],
   "source": [
    "import pandas as pd\n",
    "from pathlib import Path\n",
    "import os\n",
    "import html"
   ]
  },
  {
   "cell_type": "code",
   "execution_count": null,
   "metadata": {},
   "outputs": [],
   "source": []
  },
  {
   "attachments": {},
   "cell_type": "markdown",
   "metadata": {},
   "source": [
    "Data processing"
   ]
  },
  {
   "cell_type": "code",
   "execution_count": 39,
   "metadata": {},
   "outputs": [],
   "source": [
    "PO_GOO_DIR = Path('po-en-goo')\n",
    "PO_DL_DIR = Path('po-en-dl')\n",
    "FR_GOO_DIR = Path('fr-en-goo')\n",
    "FR_DL_DIR = Path('fr-en-dl')\n",
    "EN1_DIR = Path('en1')\n",
    "EN2_DIR = Path('en2')\n",
    "\n",
    "DIRS = [PO_GOO_DIR, PO_DL_DIR, FR_GOO_DIR, FR_DL_DIR, EN1_DIR, EN2_DIR]"
   ]
  },
  {
   "cell_type": "code",
   "execution_count": 40,
   "metadata": {},
   "outputs": [],
   "source": [
    "# Find out the replacement by checking the vocabularies in parellel chapters for confirmation\n",
    "TO_REPLACE = {\n",
    "    'ö': 'o',\n",
    "    'é': 'e',\n",
    "    'ë': 'e',\n",
    "    'ï': 'i',\n",
    "    'ą': 'a',\n",
    "    'í': 'i',\n",
    "    'æ': 'ae',\n",
    "    'ð': 'ny', # Original - fr-dl[8] 'caðon', changed to based on po-en-goo 'Canyon'\n",
    "    'à': 'a',\n",
    "    'å': 'a',\n",
    "    'â': 'a',\n",
    "    \n",
    "}"
   ]
  },
  {
   "cell_type": "code",
   "execution_count": 41,
   "metadata": {},
   "outputs": [],
   "source": [
    "\n",
    "allowed=\"abcdefghijklmnopqrstuvwxyzABCDEFGHIJKLMNOPQRSTUVWXYZ0123456789 \\n\"\n",
    "def get_not_allowed(txt):\n",
    "    others = set()\n",
    "    for i in txt:\n",
    "        if i not in allowed:\n",
    "            others.add(i)\n",
    "    return others"
   ]
  },
  {
   "cell_type": "code",
   "execution_count": 42,
   "metadata": {},
   "outputs": [
    {
     "name": "stdout",
     "output_type": "stream",
     "text": [
      "{\"'\", '.', '”', '!', 'å', '“', ':', 'â', ')', ',', '?', 'ö', '(', '’', 'é', '–', ';', '—', '-', '‘', '\\x0c'}\n"
     ]
    }
   ],
   "source": [
    "# Check special characters by checking each translated texts.\n",
    "others = set()\n",
    "for i in EN2_DIR.iterdir():\n",
    "    with open(i) as f:\n",
    "        txt = f.read()\n",
    "        # Change the html punctuation format to the normal one\n",
    "        txt = html.unescape(txt)\n",
    "    others = others.union(get_not_allowed(txt))\n",
    "print(others)"
   ]
  },
  {
   "cell_type": "code",
   "execution_count": null,
   "metadata": {},
   "outputs": [],
   "source": []
  },
  {
   "cell_type": "code",
   "execution_count": null,
   "metadata": {},
   "outputs": [],
   "source": []
  }
 ],
 "metadata": {
  "kernelspec": {
   "display_name": "Python 3",
   "language": "python",
   "name": "python3"
  },
  "language_info": {
   "codemirror_mode": {
    "name": "ipython",
    "version": 3
   },
   "file_extension": ".py",
   "mimetype": "text/x-python",
   "name": "python",
   "nbconvert_exporter": "python",
   "pygments_lexer": "ipython3",
   "version": "3.10.6"
  },
  "orig_nbformat": 4,
  "vscode": {
   "interpreter": {
    "hash": "916dbcbb3f70747c44a77c7bcd40155683ae19c65e1c03b4aa3499c5328201f1"
   }
  }
 },
 "nbformat": 4,
 "nbformat_minor": 2
}
